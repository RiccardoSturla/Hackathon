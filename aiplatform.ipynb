{
 "cells": [
  {
   "cell_type": "code",
   "execution_count": 1,
   "id": "cdc334f4",
   "metadata": {},
   "outputs": [],
   "source": [
    "#!pip install google-cloud-aiplatform==1.25.0\n",
    "#!pip install OAuth2\n",
    "import pandas as pd\n",
    "from google.oauth2 import service_account\n",
    "from google.cloud.aiplatform import Endpoint"
   ]
  },
  {
   "cell_type": "code",
   "execution_count": 2,
   "id": "979836ab",
   "metadata": {},
   "outputs": [],
   "source": [
    "credentials = service_account.Credentials.from_service_account_file('key.json')"
   ]
  },
  {
   "cell_type": "code",
   "execution_count": 3,
   "id": "608b5e5b",
   "metadata": {},
   "outputs": [],
   "source": [
    "endpoint = Endpoint(\n",
    "    endpoint_name=\"4472668166257901568\",\n",
    "    project=\"hackathon-dse\",\n",
    "    location=\"us-central1\",\n",
    "    credentials=credentials,\n",
    ")"
   ]
  },
  {
   "cell_type": "code",
   "execution_count": 4,
   "id": "8a6f9c5c",
   "metadata": {},
   "outputs": [],
   "source": [
    "wine = pd.read_csv(r\"C:\\Users\\secon\\Desktop\\Hackathon\\winequality-red.csv\")\n",
    "X = wine.iloc[:,0:-1]"
   ]
  },
  {
   "cell_type": "code",
   "execution_count": null,
   "id": "4bc51136",
   "metadata": {},
   "outputs": [],
   "source": [
    "n = 5\n",
    "predictions = endpoint.predict(instances=[list(X.iloc[n])])\n",
    "print(wine.iloc[n], '\\n')\n",
    "print(predictions)"
   ]
  }
 ],
 "metadata": {
  "kernelspec": {
   "display_name": "Python 3 (ipykernel)",
   "language": "python",
   "name": "python3"
  },
  "language_info": {
   "codemirror_mode": {
    "name": "ipython",
    "version": 3
   },
   "file_extension": ".py",
   "mimetype": "text/x-python",
   "name": "python",
   "nbconvert_exporter": "python",
   "pygments_lexer": "ipython3",
   "version": "3.9.12"
  }
 },
 "nbformat": 4,
 "nbformat_minor": 5
}
